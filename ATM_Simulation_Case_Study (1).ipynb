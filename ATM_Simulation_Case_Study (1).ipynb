{
 "cells": [
  {
   "cell_type": "code",
   "execution_count": 1,
   "id": "b61ff5fa-1686-425e-b5aa-0b9fcc8a5ce5",
   "metadata": {},
   "outputs": [
    {
     "name": "stdin",
     "output_type": "stream",
     "text": [
      "Enter your password: abc123\n"
     ]
    },
    {
     "name": "stdout",
     "output_type": "stream",
     "text": [
      "Successfully Logged in.\n",
      "Choose you account type: 1. Saving \n",
      "2. Current.\n"
     ]
    },
    {
     "name": "stdin",
     "output_type": "stream",
     "text": [
      "Enter Your choice: 1\n"
     ]
    },
    {
     "name": "stdout",
     "output_type": "stream",
     "text": [
      "Select Transaction Method from thsi : \n",
      "1. withdrawal \n",
      " 2. Balance Checking\n"
     ]
    },
    {
     "name": "stdin",
     "output_type": "stream",
     "text": [
      "Select your transaction method: 1\n",
      "Enter you amount: 456\n"
     ]
    },
    {
     "name": "stdout",
     "output_type": "stream",
     "text": [
      "Your amount 456 has been successfully withdrawn. Your remaining balance is 544.\n"
     ]
    }
   ],
   "source": [
    "balance = 1000\n",
    "corrected_password = \"abc123\"\n",
    "attempt = 3\n",
    "max_attempt = 5\n",
    "\n",
    "# loops for the password checking\n",
    "for i in range(1,4):\n",
    "    user_input = str(input(\"Enter your password:\"))\n",
    "    # Conditional Statement for checking password is correct or not\n",
    "    if corrected_password == user_input:\n",
    "        print(\"Successfully Logged in.\")\n",
    "        \n",
    "        print(f\"Choose you account type: 1. Saving \\n2. Current.\")\n",
    "        acc_input= int(input(\"Enter Your choice:\"))\n",
    "    # Savings - Transaction attempt\n",
    "        for j in range(1, max_attempt+1):\n",
    "            print(\"Select Transaction Method from thsi : \\n1. withdrawal \\n 2. Balance Checking\")\n",
    "            trsn_method = int(input(\"Select your transaction method:\"))\n",
    "        # Withdrawal\n",
    "            if trsn_method == 1:\n",
    "                amount = int(input('Enter you amount:'))\n",
    "                if amount<= balance:\n",
    "                    reamaining_balance = balance - amount\n",
    "                    print(f\"Your amount {amount} has been successfully withdrawn. Your remaining balance is {reamaining_balance}.\")\n",
    "                else:\n",
    "                    print(\"You have insufficient balance.\")\n",
    "                break\n",
    "        # balance checking\n",
    "            elif trsn_method == 2:\n",
    "                print(f\"Your balance is {balance}.\")\n",
    "                break\n",
    "            else:\n",
    "                print(\"Incorrect choice.\")\n",
    "        break\n",
    "    # Current\n",
    "    else:\n",
    "        remaining_attempts = attempt-i\n",
    "        print(f\"Your password is incorrect. You have remaining {remaining_attempts} attempts.\")"
   ]
  },
  {
   "cell_type": "code",
   "execution_count": null,
   "id": "24c58062-d3d6-441d-845f-90dbb9d6ce34",
   "metadata": {},
   "outputs": [],
   "source": []
  }
 ],
 "metadata": {
  "kernelspec": {
   "display_name": "Python 3 (ipykernel)",
   "language": "python",
   "name": "python3"
  },
  "language_info": {
   "codemirror_mode": {
    "name": "ipython",
    "version": 3
   },
   "file_extension": ".py",
   "mimetype": "text/x-python",
   "name": "python",
   "nbconvert_exporter": "python",
   "pygments_lexer": "ipython3",
   "version": "3.12.4"
  }
 },
 "nbformat": 4,
 "nbformat_minor": 5
}
